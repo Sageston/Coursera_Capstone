{
 "cells": [
  {
   "cell_type": "markdown",
   "id": "7b3ec573-9681-4d44-b146-91412cd3f356",
   "metadata": {},
   "source": [
    "## Hi! I am a notebook that Shea has created for his IBM Certification capstone project in Data Science!"
   ]
  },
  {
   "cell_type": "code",
   "execution_count": 4,
   "id": "afcb0ec3-6123-4107-b6a1-e608e1705360",
   "metadata": {},
   "outputs": [],
   "source": [
    "import pandas as pd\n",
    "import numpy as np"
   ]
  },
  {
   "cell_type": "code",
   "execution_count": 5,
   "id": "6d8db2fa-45fd-4ab0-ac3f-a39ac73d7acb",
   "metadata": {},
   "outputs": [
    {
     "name": "stdout",
     "output_type": "stream",
     "text": [
      "Hello Capstone Project Course!\n"
     ]
    }
   ],
   "source": [
    "print('Hello Capstone Project Course!')"
   ]
  },
  {
   "cell_type": "code",
   "execution_count": null,
   "id": "acf444af-c81d-423c-955d-4de5c2d6d782",
   "metadata": {},
   "outputs": [],
   "source": []
  }
 ],
 "metadata": {
  "kernelspec": {
   "display_name": "Python 3",
   "language": "python",
   "name": "python3"
  },
  "language_info": {
   "codemirror_mode": {
    "name": "ipython",
    "version": 3
   },
   "file_extension": ".py",
   "mimetype": "text/x-python",
   "name": "python",
   "nbconvert_exporter": "python",
   "pygments_lexer": "ipython3",
   "version": "3.9.4"
  }
 },
 "nbformat": 4,
 "nbformat_minor": 5
}
